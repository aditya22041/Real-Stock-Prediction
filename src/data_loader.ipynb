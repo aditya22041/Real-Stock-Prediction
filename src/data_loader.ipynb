{
  "cells": [
    {
      "cell_type": "markdown",
      "metadata": {
        "id": "view-in-github",
        "colab_type": "text"
      },
      "source": [
        "<a href=\"https://colab.research.google.com/github/aditya22041/Real-Stock-Prediction/blob/main/src/data_loader.ipynb\" target=\"_parent\"><img src=\"https://colab.research.google.com/assets/colab-badge.svg\" alt=\"Open In Colab\"/></a>"
      ]
    },
    {
      "cell_type": "markdown",
      "metadata": {
        "id": "HbXmBh2NNJME"
      },
      "source": [
        "# Objective\n",
        "Goal: Read both CSVs efficiently (e.g. with chunksize for news), parse their timestamps into pd.Datetime, and join on time + assetCode.\n",
        "\n",
        "Output:\n",
        "\n",
        "data/processed/merged_minute.pkl: one row per minute per asset, containing both price and a list of that minute’s headlines."
      ],
      "id": "HbXmBh2NNJME"
    },
    {
      "cell_type": "code",
      "execution_count": 1,
      "metadata": {
        "id": "shXtd1EaNJMI",
        "outputId": "bcac7c48-6b2b-4b8f-8d19-fc2e8d766ec7",
        "colab": {
          "base_uri": "https://localhost:8080/",
          "height": 106
        }
      },
      "outputs": [
        {
          "output_type": "error",
          "ename": "SyntaxError",
          "evalue": "invalid syntax (<ipython-input-1-3761572699>, line 1)",
          "traceback": [
            "\u001b[0;36m  File \u001b[0;32m\"<ipython-input-1-3761572699>\"\u001b[0;36m, line \u001b[0;32m1\u001b[0m\n\u001b[0;31m    kaggle competitions download -c two-sigma-financial-news\u001b[0m\n\u001b[0m           ^\u001b[0m\n\u001b[0;31mSyntaxError\u001b[0m\u001b[0;31m:\u001b[0m invalid syntax\n"
          ]
        }
      ],
      "source": [
        "kaggle competitions download -c two-sigma-financial-news"
      ],
      "id": "shXtd1EaNJMI"
    }
  ],
  "metadata": {
    "kernelspec": {
      "display_name": "Python 3",
      "language": "python",
      "name": "python3"
    },
    "language_info": {
      "codemirror_mode": {
        "name": "ipython",
        "version": 3
      },
      "file_extension": ".py",
      "mimetype": "text/x-python",
      "name": "python",
      "nbconvert_exporter": "python",
      "pygments_lexer": "ipython3",
      "version": "3.10.0"
    },
    "colab": {
      "provenance": [],
      "include_colab_link": true
    }
  },
  "nbformat": 4,
  "nbformat_minor": 5
}